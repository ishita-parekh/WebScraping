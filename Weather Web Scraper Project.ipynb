{
 "cells": [
  {
   "cell_type": "code",
   "execution_count": 1,
   "metadata": {},
   "outputs": [],
   "source": [
    "#Import Libraries\n",
    "\n",
    "from bs4 import BeautifulSoup\n",
    "import requests\n",
    "import pandas as pd"
   ]
  },
  {
   "cell_type": "code",
   "execution_count": 2,
   "metadata": {},
   "outputs": [],
   "source": [
    "#defining variables\n",
    "\n",
    "newline = '\\n'"
   ]
  },
  {
   "cell_type": "code",
   "execution_count": 3,
   "metadata": {},
   "outputs": [
    {
     "data": {
      "text/plain": [
       "<Response [200]>"
      ]
     },
     "execution_count": 3,
     "metadata": {},
     "output_type": "execute_result"
    }
   ],
   "source": [
    "#downloading HTML document by requesting to the server\n",
    "\n",
    "URL = \"https://forecast.weather.gov/MapClick.php?lat=37.7772&lon=-122.4168\"\n",
    "\n",
    "page = requests.get(URL)\n",
    "\n",
    "page"
   ]
  },
  {
   "cell_type": "code",
   "execution_count": 4,
   "metadata": {},
   "outputs": [
    {
     "data": {
      "text/plain": [
       "200"
      ]
     },
     "execution_count": 4,
     "metadata": {},
     "output_type": "execute_result"
    }
   ],
   "source": [
    "page.status_code"
   ]
  },
  {
   "cell_type": "code",
   "execution_count": 5,
   "metadata": {},
   "outputs": [],
   "source": [
    "#creating BeautifulSoup Object \n",
    "\n",
    "soup = BeautifulSoup(page.content, 'html.parser')"
   ]
  },
  {
   "cell_type": "code",
   "execution_count": 6,
   "metadata": {},
   "outputs": [],
   "source": [
    "#finding all the forecast items and extracting today's forecast item\n",
    "\n",
    "seven_day = soup.find(id='seven-day-forecast')\n",
    "\n",
    "forecast_items = soup.find_all(class_='tombstone-container')\n",
    "\n",
    "today = forecast_items[1]"
   ]
  },
  {
   "cell_type": "code",
   "execution_count": 7,
   "metadata": {},
   "outputs": [
    {
     "name": "stdout",
     "output_type": "stream",
     "text": [
      "<div class=\"tombstone-container\">\n",
      " <p class=\"period-name\">\n",
      "  Wednesday\n",
      "  <br/>\n",
      "  <br/>\n",
      " </p>\n",
      " <p>\n",
      "  <img alt=\"Wednesday: Sunny, with a high near 67. Breezy, with a west southwest wind 13 to 22 mph, with gusts as high as 29 mph. \" class=\"forecast-icon\" src=\"DualImage.php?i=sct&amp;j=wind_few\" title=\"Wednesday: Sunny, with a high near 67. Breezy, with a west southwest wind 13 to 22 mph, with gusts as high as 29 mph. \"/>\n",
      " </p>\n",
      " <p class=\"short-desc\">\n",
      "  Mostly Sunny\n",
      "  <br/>\n",
      "  then Sunny\n",
      "  <br/>\n",
      "  and Breezy\n",
      " </p>\n",
      " <p class=\"temp temp-high\">\n",
      "  High: 67 °F\n",
      " </p>\n",
      "</div>\n"
     ]
    }
   ],
   "source": [
    "#presents the html in a proper format\n",
    "\n",
    "print(today.prettify())"
   ]
  },
  {
   "cell_type": "code",
   "execution_count": 8,
   "metadata": {},
   "outputs": [
    {
     "name": "stdout",
     "output_type": "stream",
     "text": [
      "Wednesday\n",
      "Mostly Sunnythen Sunnyand Breezy\n",
      "High: 67 °F\n"
     ]
    }
   ],
   "source": [
    "#extarcting temperature, title and description for today\n",
    "\n",
    "today_period_name = today.find(class_='period-name').get_text()\n",
    "\n",
    "today_short_desc = today.find(class_='short-desc').get_text()\n",
    "\n",
    "today_temp = today.find(class_='temp').get_text()\n",
    "\n",
    "print(f'{today_period_name}{newline}{today_short_desc}{newline}{today_temp}')"
   ]
  },
  {
   "cell_type": "code",
   "execution_count": 9,
   "metadata": {},
   "outputs": [
    {
     "name": "stdout",
     "output_type": "stream",
     "text": [
      "['Overnight', 'Wednesday', 'WednesdayNight', 'Thursday', 'ThursdayNight', 'Friday', 'FridayNight', 'Saturday', 'SaturdayNight']\n",
      "['Low: 54 °F', 'High: 67 °F', 'Low: 54 °F', 'High: 66 °F', 'Low: 54 °F', 'High: 66 °F', 'Low: 54 °F', 'High: 66 °F', 'Low: 54 °F']\n",
      "['Partly Cloudy', 'Mostly Sunnythen Sunnyand Breezy', 'Partly Cloudyand Breezythen MostlyCloudy', 'Mostly Sunnythen Sunnyand Breezy', 'Partly Cloudyand Breezythen MostlyCloudy', 'Partly Sunnythen MostlySunny andBreezy', 'Partly Cloudyand Breezythen MostlyCloudy', 'Mostly Sunny', 'Partly Cloudy']\n",
      "['Overnight: Partly cloudy, with a low around 54. West wind 14 to 16 mph, with gusts as high as 21 mph. ', 'Wednesday: Sunny, with a high near 67. Breezy, with a west southwest wind 13 to 22 mph, with gusts as high as 29 mph. ', 'Wednesday Night: Partly cloudy, with a low around 54. Breezy, with a southwest wind 14 to 22 mph, with gusts as high as 29 mph. ', 'Thursday: Mostly sunny, with a high near 66. Breezy, with a west southwest wind 15 to 23 mph, with gusts as high as 30 mph. ', 'Thursday Night: Partly cloudy, with a low around 54. Breezy, with a west southwest wind 13 to 23 mph, with gusts as high as 30 mph. ', 'Friday: Partly sunny, with a high near 66. Breezy. ', 'Friday Night: Mostly cloudy, with a low around 54. Breezy. ', 'Saturday: Mostly sunny, with a high near 66.', 'Saturday Night: Partly cloudy, with a low around 54.']\n"
     ]
    }
   ],
   "source": [
    "#extracting all the data (temp, title, description) for days updated on the website\n",
    "\n",
    "period_tags = seven_day.select(\".tombstone-container .period-name\")\n",
    "periods = [pt.get_text() for pt in period_tags]\n",
    "\n",
    "short_descs = [sd.get_text() for sd in (seven_day.select('.tombstone-container .short-desc'))]\n",
    "\n",
    "temp = [t.get_text() for t in (seven_day.select('.tombstone-container .temp'))]\n",
    "\n",
    "title = [ti['title'] for ti in seven_day.select('.tombstone-container img')]\n",
    "        \n",
    "print(f'{periods}{newline}{temp}{newline}{short_descs}{newline}{title}')"
   ]
  },
  {
   "cell_type": "code",
   "execution_count": 10,
   "metadata": {},
   "outputs": [
    {
     "data": {
      "text/html": [
       "<div>\n",
       "<style scoped>\n",
       "    .dataframe tbody tr th:only-of-type {\n",
       "        vertical-align: middle;\n",
       "    }\n",
       "\n",
       "    .dataframe tbody tr th {\n",
       "        vertical-align: top;\n",
       "    }\n",
       "\n",
       "    .dataframe thead th {\n",
       "        text-align: right;\n",
       "    }\n",
       "</style>\n",
       "<table border=\"1\" class=\"dataframe\">\n",
       "  <thead>\n",
       "    <tr style=\"text-align: right;\">\n",
       "      <th></th>\n",
       "      <th>title</th>\n",
       "      <th>periods</th>\n",
       "      <th>short_desc</th>\n",
       "      <th>temp</th>\n",
       "    </tr>\n",
       "  </thead>\n",
       "  <tbody>\n",
       "    <tr>\n",
       "      <th>0</th>\n",
       "      <td>Overnight: Partly cloudy, with a low around 54...</td>\n",
       "      <td>Overnight</td>\n",
       "      <td>Partly Cloudy</td>\n",
       "      <td>Low: 54 °F</td>\n",
       "    </tr>\n",
       "    <tr>\n",
       "      <th>1</th>\n",
       "      <td>Wednesday: Sunny, with a high near 67. Breezy,...</td>\n",
       "      <td>Wednesday</td>\n",
       "      <td>Mostly Sunnythen Sunnyand Breezy</td>\n",
       "      <td>High: 67 °F</td>\n",
       "    </tr>\n",
       "    <tr>\n",
       "      <th>2</th>\n",
       "      <td>Wednesday Night: Partly cloudy, with a low aro...</td>\n",
       "      <td>WednesdayNight</td>\n",
       "      <td>Partly Cloudyand Breezythen MostlyCloudy</td>\n",
       "      <td>Low: 54 °F</td>\n",
       "    </tr>\n",
       "    <tr>\n",
       "      <th>3</th>\n",
       "      <td>Thursday: Mostly sunny, with a high near 66. B...</td>\n",
       "      <td>Thursday</td>\n",
       "      <td>Mostly Sunnythen Sunnyand Breezy</td>\n",
       "      <td>High: 66 °F</td>\n",
       "    </tr>\n",
       "    <tr>\n",
       "      <th>4</th>\n",
       "      <td>Thursday Night: Partly cloudy, with a low arou...</td>\n",
       "      <td>ThursdayNight</td>\n",
       "      <td>Partly Cloudyand Breezythen MostlyCloudy</td>\n",
       "      <td>Low: 54 °F</td>\n",
       "    </tr>\n",
       "    <tr>\n",
       "      <th>5</th>\n",
       "      <td>Friday: Partly sunny, with a high near 66. Bre...</td>\n",
       "      <td>Friday</td>\n",
       "      <td>Partly Sunnythen MostlySunny andBreezy</td>\n",
       "      <td>High: 66 °F</td>\n",
       "    </tr>\n",
       "    <tr>\n",
       "      <th>6</th>\n",
       "      <td>Friday Night: Mostly cloudy, with a low around...</td>\n",
       "      <td>FridayNight</td>\n",
       "      <td>Partly Cloudyand Breezythen MostlyCloudy</td>\n",
       "      <td>Low: 54 °F</td>\n",
       "    </tr>\n",
       "    <tr>\n",
       "      <th>7</th>\n",
       "      <td>Saturday: Mostly sunny, with a high near 66.</td>\n",
       "      <td>Saturday</td>\n",
       "      <td>Mostly Sunny</td>\n",
       "      <td>High: 66 °F</td>\n",
       "    </tr>\n",
       "    <tr>\n",
       "      <th>8</th>\n",
       "      <td>Saturday Night: Partly cloudy, with a low arou...</td>\n",
       "      <td>SaturdayNight</td>\n",
       "      <td>Partly Cloudy</td>\n",
       "      <td>Low: 54 °F</td>\n",
       "    </tr>\n",
       "  </tbody>\n",
       "</table>\n",
       "</div>"
      ],
      "text/plain": [
       "                                               title         periods  \\\n",
       "0  Overnight: Partly cloudy, with a low around 54...       Overnight   \n",
       "1  Wednesday: Sunny, with a high near 67. Breezy,...       Wednesday   \n",
       "2  Wednesday Night: Partly cloudy, with a low aro...  WednesdayNight   \n",
       "3  Thursday: Mostly sunny, with a high near 66. B...        Thursday   \n",
       "4  Thursday Night: Partly cloudy, with a low arou...   ThursdayNight   \n",
       "5  Friday: Partly sunny, with a high near 66. Bre...          Friday   \n",
       "6  Friday Night: Mostly cloudy, with a low around...     FridayNight   \n",
       "7       Saturday: Mostly sunny, with a high near 66.        Saturday   \n",
       "8  Saturday Night: Partly cloudy, with a low arou...   SaturdayNight   \n",
       "\n",
       "                                 short_desc         temp  \n",
       "0                             Partly Cloudy   Low: 54 °F  \n",
       "1          Mostly Sunnythen Sunnyand Breezy  High: 67 °F  \n",
       "2  Partly Cloudyand Breezythen MostlyCloudy   Low: 54 °F  \n",
       "3          Mostly Sunnythen Sunnyand Breezy  High: 66 °F  \n",
       "4  Partly Cloudyand Breezythen MostlyCloudy   Low: 54 °F  \n",
       "5    Partly Sunnythen MostlySunny andBreezy  High: 66 °F  \n",
       "6  Partly Cloudyand Breezythen MostlyCloudy   Low: 54 °F  \n",
       "7                              Mostly Sunny  High: 66 °F  \n",
       "8                             Partly Cloudy   Low: 54 °F  "
      ]
     },
     "execution_count": 10,
     "metadata": {},
     "output_type": "execute_result"
    }
   ],
   "source": [
    "#storing the data as pandas dataframe\n",
    "\n",
    "dataframe = {'title':title,\n",
    "             'periods':periods,\n",
    "             'short_desc':short_descs,\n",
    "             'temp':temp,\n",
    "             }\n",
    "\n",
    "weather = pd.DataFrame(dataframe)\n",
    "\n",
    "weather"
   ]
  },
  {
   "cell_type": "code",
   "execution_count": null,
   "metadata": {},
   "outputs": [],
   "source": []
  }
 ],
 "metadata": {
  "kernelspec": {
   "display_name": "Python 3",
   "language": "python",
   "name": "python3"
  },
  "language_info": {
   "codemirror_mode": {
    "name": "ipython",
    "version": 3
   },
   "file_extension": ".py",
   "mimetype": "text/x-python",
   "name": "python",
   "nbconvert_exporter": "python",
   "pygments_lexer": "ipython3",
   "version": "3.8.5"
  }
 },
 "nbformat": 4,
 "nbformat_minor": 4
}
