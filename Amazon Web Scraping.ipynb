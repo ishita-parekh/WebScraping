{
 "cells": [
  {
   "cell_type": "code",
   "execution_count": 39,
   "metadata": {},
   "outputs": [],
   "source": [
    "#Import Libraries\n",
    "\n",
    "from bs4 import BeautifulSoup\n",
    "import pandas as pd\n",
    "import requests\n",
    "import datetime\n",
    "import csv"
   ]
  },
  {
   "cell_type": "code",
   "execution_count": 6,
   "metadata": {},
   "outputs": [
    {
     "data": {
      "text/plain": [
       "<Response [200]>"
      ]
     },
     "execution_count": 6,
     "metadata": {},
     "output_type": "execute_result"
    }
   ],
   "source": [
    "#downloading HTML document by requesting to the server\n",
    "\n",
    "URL = 'https://www.amazon.in/SQL-Complete-Reference-James-Groff/dp/1259003884/ref=sr_1_2_sspa?keywords=sql+book&qid=1656331247&sprefix=sql+%2Caps%2C366&sr=8-2-spons&psc=1&spLa=ZW5jcnlwdGVkUXVhbGlmaWVyPUEzR1FNSU5CMzZBRVMyJmVuY3J5cHRlZElkPUEwOTI0OTAwMVZLV0lGWlhVVUxRUiZlbmNyeXB0ZWRBZElkPUEwNjc2MDkxMTNENjFETDY3SE5RUCZ3aWRnZXROYW1lPXNwX2F0ZiZhY3Rpb249Y2xpY2tSZWRpcmVjdCZkb05vdExvZ0NsaWNrPXRydWU='\n",
    "\n",
    "headers = {\"User-Agent\": \"Mozilla/5.0 (Windows NT 10.0; Win64; x64) AppleWebKit/537.36 (KHTML, like Gecko) Chrome/102.0.0.0 Safari/537.36\", \"Accept-Encoding\": \"gzip, deflate, br\", \"Accept\": \"text/html,application/xhtml+xml,application/xml;q=0.9,image/avif,image/webp,image/apng,*/*;q=0.8,application/signed-exchange;v=b3;q=0.9\", \"Upgrade-Insecure-Requests\": \"1\"}\n",
    "\n",
    "page = requests.get(URL, headers=headers)\n",
    "\n",
    "page"
   ]
  },
  {
   "cell_type": "code",
   "execution_count": 10,
   "metadata": {},
   "outputs": [],
   "source": [
    "#creating BeautifulSoup Object \n",
    "\n",
    "soup = BeautifulSoup(page.content, 'html.parser')"
   ]
  },
  {
   "cell_type": "code",
   "execution_count": 36,
   "metadata": {},
   "outputs": [
    {
     "name": "stdout",
     "output_type": "stream",
     "text": [
      " SQL The Complete Reference, 3rd Edition \n",
      "₹901.00\n",
      "4.2 out of 5 stars\n",
      "73 ratings\n"
     ]
    }
   ],
   "source": [
    "#extracting book title, book price, rating and reviews\n",
    "\n",
    "booktitle = soup.find(id='productTitle').get_text()\n",
    "\n",
    "bookprice = soup.find(id='price').get_text()\n",
    "\n",
    "rating = soup.find(class_='a-icon-alt').get_text()\n",
    "\n",
    "no_of_reviews = soup.find(id='acrCustomerReviewText').get_text()"
   ]
  },
  {
   "cell_type": "code",
   "execution_count": 37,
   "metadata": {},
   "outputs": [
    {
     "name": "stdout",
     "output_type": "stream",
     "text": [
      "SQL The Complete Reference, 3rd Edition\n",
      "901.00\n",
      "4.2\n",
      "73\n"
     ]
    }
   ],
   "source": [
    "#cleaning and formatting extracted data\n",
    "\n",
    "booktitle = booktitle.strip()\n",
    "\n",
    "bookprice = bookprice[1:]\n",
    "\n",
    "rating = rating[:3]\n",
    "\n",
    "no_of_reviews = no_of_reviews[:2]"
   ]
  },
  {
   "cell_type": "code",
   "execution_count": 45,
   "metadata": {},
   "outputs": [
    {
     "name": "stdout",
     "output_type": "stream",
     "text": [
      "2022-06-27\n"
     ]
    }
   ],
   "source": [
    "#getting today's date\n",
    "\n",
    "today = datetime.date.today()\n",
    "\n",
    "print(today)"
   ]
  },
  {
   "cell_type": "code",
   "execution_count": 47,
   "metadata": {},
   "outputs": [],
   "source": [
    "# inserting data into csv\n",
    "\n",
    "header = ['Title','Price','Date','Rating','Total Reviews']\n",
    "data = [booktitle,bookprice,today,rating,no_of_reviews]\n",
    "\n",
    "filename = 'C:/Users/ISHITA/Desktop/WebScraping.csv'\n",
    "\n",
    "with open(filename, 'w', newline='', encoding='UTF8') as file:\n",
    "    writer = csv.writer(file)\n",
    "    writer.writerow(header)\n",
    "    writer.writerow(data)"
   ]
  },
  {
   "cell_type": "code",
   "execution_count": 49,
   "metadata": {},
   "outputs": [
    {
     "data": {
      "text/html": [
       "<div>\n",
       "<style scoped>\n",
       "    .dataframe tbody tr th:only-of-type {\n",
       "        vertical-align: middle;\n",
       "    }\n",
       "\n",
       "    .dataframe tbody tr th {\n",
       "        vertical-align: top;\n",
       "    }\n",
       "\n",
       "    .dataframe thead th {\n",
       "        text-align: right;\n",
       "    }\n",
       "</style>\n",
       "<table border=\"1\" class=\"dataframe\">\n",
       "  <thead>\n",
       "    <tr style=\"text-align: right;\">\n",
       "      <th></th>\n",
       "      <th>Title</th>\n",
       "      <th>Price</th>\n",
       "      <th>Date</th>\n",
       "      <th>Rating</th>\n",
       "      <th>Total Reviews</th>\n",
       "    </tr>\n",
       "  </thead>\n",
       "  <tbody>\n",
       "    <tr>\n",
       "      <th>0</th>\n",
       "      <td>SQL The Complete Reference, 3rd Edition</td>\n",
       "      <td>901.0</td>\n",
       "      <td>2022-06-27</td>\n",
       "      <td>4.2</td>\n",
       "      <td>73</td>\n",
       "    </tr>\n",
       "  </tbody>\n",
       "</table>\n",
       "</div>"
      ],
      "text/plain": [
       "                                     Title  Price        Date  Rating  \\\n",
       "0  SQL The Complete Reference, 3rd Edition  901.0  2022-06-27     4.2   \n",
       "\n",
       "   Total Reviews  \n",
       "0             73  "
      ]
     },
     "execution_count": 49,
     "metadata": {},
     "output_type": "execute_result"
    }
   ],
   "source": [
    "#storing the data as pandas dataframe\n",
    "\n",
    "df = pd.read_csv(filename)\n",
    "\n",
    "df"
   ]
  }
 ],
 "metadata": {
  "kernelspec": {
   "display_name": "Python 3",
   "language": "python",
   "name": "python3"
  },
  "language_info": {
   "codemirror_mode": {
    "name": "ipython",
    "version": 3
   },
   "file_extension": ".py",
   "mimetype": "text/x-python",
   "name": "python",
   "nbconvert_exporter": "python",
   "pygments_lexer": "ipython3",
   "version": "3.8.5"
  }
 },
 "nbformat": 4,
 "nbformat_minor": 4
}
